{
 "cells": [
  {
   "cell_type": "code",
   "execution_count": 1,
   "metadata": {},
   "outputs": [],
   "source": [
    "import numpy as np\n",
    "import matplotlib.pyplot as plt\n",
    "from matplotlib.colors import ListedColormap \n",
    "from tqdm import trange\n",
    "\n",
    "from celluloid import Camera\n",
    "from IPython.display import HTML, Image"
   ]
  },
  {
   "cell_type": "code",
   "execution_count": 2,
   "metadata": {},
   "outputs": [
    {
     "data": {
      "text/html": [
       "<style>.container { width:90% !important; }</style>"
      ],
      "text/plain": [
       "<IPython.core.display.HTML object>"
      ]
     },
     "metadata": {},
     "output_type": "display_data"
    }
   ],
   "source": [
    "from IPython.core.display import display, HTML\n",
    "display(HTML(\"<style>.container { width:90% !important; }</style>\"))"
   ]
  },
  {
   "cell_type": "code",
   "execution_count": 3,
   "metadata": {},
   "outputs": [],
   "source": [
    "plt.rcParams['animation.ffmpeg_path'] = r'C:\\ffmpeg\\ffmpeg\\bin\\ffmpeg.exe'\n",
    "plt.rc(\"xtick\", labelsize=20)\n",
    "plt.rc(\"ytick\", labelsize=20)"
   ]
  },
  {
   "cell_type": "code",
   "execution_count": 4,
   "metadata": {},
   "outputs": [],
   "source": [
    "def generate_forest(size, probability):\n",
    "    \"\"\"\n",
    "    Generates a model of forest as a matrix, where: \n",
    "        empty cell is represented by 0\n",
    "        occupied by a tree is represented by 1\n",
    "        burning tree is represented by 2\n",
    "        \n",
    "    Input:\n",
    "        size: int - length of one side in square lattice\n",
    "        probability: float - probability, in which a cell is populated by a tree\n",
    "        \n",
    "    Output:\n",
    "        matrix: numpy.array - model of forest as numpy matrix\n",
    "    \"\"\"\n",
    "    matrix = np.random.rand(size*size)\n",
    "    matrix = np.where(matrix > probability, 0, 1)\n",
    "    matrix = np.reshape(matrix, (size, size))\n",
    "    matrix[-1, :] = np.where(matrix[-1, :] == 1, 2, 0)\n",
    "    \n",
    "    return matrix"
   ]
  },
  {
   "cell_type": "code",
   "execution_count": 5,
   "metadata": {},
   "outputs": [],
   "source": [
    "def get_neighbours(matrix, x, y):\n",
    "    \"\"\"\n",
    "    Finds neighbours of a given cell\n",
    "    \n",
    "    Input:\n",
    "        matrix: numpy.array - model of forest as numpy matrix\n",
    "        x: int - number of row for a given cell\n",
    "        y: int - number of column for a given cell\n",
    "        \n",
    "    Output:\n",
    "        neighbours: list - list of states of neighbours\n",
    "    \"\"\"\n",
    "    new_array = np.zeros(shape=(len(matrix)+2, len(matrix)+2), dtype=int)\n",
    "    new_array[1:-1, 1:-1] = matrix  \n",
    "    \n",
    "    neighbours = []\n",
    "    standard_neighbours = ((-1,-1), (-1,0), (-1,1), (0,-1), (0, 1), (1,-1), (1,0), (1,1))\n",
    "    for dx, dy in standard_neighbours:\n",
    "        neighbours.append(new_array[x+1+dx][y+1+dy])\n",
    "    \n",
    "    return neighbours"
   ]
  },
  {
   "cell_type": "code",
   "execution_count": 6,
   "metadata": {},
   "outputs": [],
   "source": [
    "def fire_simulation(matrix):\n",
    "    \"\"\"\n",
    "    Simulation of burning forest. Rules: A cell occupied by a tree becomes a burning cell, if any of its eight \n",
    "    neighboring cells are burning. A burning cell turns into an burnt tree and it is represented by 3 in matrix. \n",
    "    \n",
    "    Input:\n",
    "        matrix: numpy.array - model of forest as numpy matrix\n",
    "        \n",
    "    Output:\n",
    "        states: list - list of numpy.array objects representing all steps of burning forest\n",
    "    \"\"\"\n",
    "    states = [matrix]\n",
    "    next_step = np.array(matrix, copy=True)\n",
    "    hit_opposite_edge = False\n",
    "    while np.any(matrix[:, :] == 2):  # until there is at least one burning cell\n",
    "        if np.any(matrix[0, :] == 2):  # top row has burning cell\n",
    "            hit_opposite_edge = True\n",
    "        for i in range(L):\n",
    "            for j in range(L):\n",
    "                neighbours = get_neighbours(matrix, i, j)\n",
    "                if matrix[i, j] == 2:  # burning cell turns into burnt tree\n",
    "                    next_step[i, j] = 3\n",
    "                elif 2 in neighbours and matrix[i, j] == 1:  # cell has neighbour, which is burning\n",
    "                    next_step[i, j] = 2\n",
    "\n",
    "        matrix = np.array(next_step, copy=True) \n",
    "        states.append(matrix)\n",
    "        \n",
    "    return states, hit_opposite_edge"
   ]
  },
  {
   "cell_type": "code",
   "execution_count": 7,
   "metadata": {
    "scrolled": false
   },
   "outputs": [],
   "source": [
    "def show_images(states):\n",
    "    \"\"\"\n",
    "    Shows every step of burning forest\n",
    "    Input:\n",
    "        states: list - list of numpy.array objects representing all steps of burning forest\n",
    "    \"\"\"\n",
    "    cmap = ListedColormap(['white', 'green', 'red', 'black'])\n",
    "    plt.imshow(states[0], interpolation=\"nearest\", cmap=ListedColormap(['white', 'green', 'red']))\n",
    "    plt.show()\n",
    "    for i in range(len(states)-1):\n",
    "        plt.imshow(states[i+1], interpolation=\"nearest\", cmap=cmap)\n",
    "        plt.show()"
   ]
  },
  {
   "cell_type": "code",
   "execution_count": 8,
   "metadata": {},
   "outputs": [],
   "source": [
    "def create_frames(states):\n",
    "    \"\"\"\n",
    "    Creates animation from every step of burning forest\n",
    "    Input:\n",
    "        states: list - list of numpy.array objects representing all steps of burning forest\n",
    "    Output:\n",
    "        animation: plt.animation - captured images to generate a gif file\n",
    "    \"\"\"\n",
    "    cmap = ListedColormap(['white', 'green', 'red', 'black'])\n",
    "    images = []\n",
    "    \n",
    "    fig = plt.figure(figsize=(8, 6), dpi=80)\n",
    "    ax = fig.gca()\n",
    "    camera = Camera(fig)\n",
    "    \n",
    "    plt.imshow(states[0], interpolation=\"nearest\", cmap=ListedColormap(['white', 'green', 'red']))\n",
    "    ax.text(0.40, 1.01, \"step 1\", size=20, transform=ax.transAxes)\n",
    "    camera.snap()\n",
    "    for i in range(len(states)-1):\n",
    "        ax.text(0.40, 1.01, \"step %s\" % str(i+1), size=20, transform=ax.transAxes)\n",
    "        plt.imshow(states[i+1], interpolation=\"nearest\", cmap=cmap)          \n",
    "        camera.snap()\n",
    "    \n",
    "    animation = camera.animate()\n",
    "    \n",
    "    return animation "
   ]
  },
  {
   "cell_type": "code",
   "execution_count": 9,
   "metadata": {},
   "outputs": [],
   "source": [
    "def percolation_threshold(L, ps, mc):\n",
    "    \"\"\"\n",
    "    Calculates probabilities of hitting the opposite edge by burning cell for different probabilities of populating a tree\n",
    "    \n",
    "    Input:\n",
    "        L: int - length of one side in square lattice\n",
    "        ps: list - list of probabilities of populating a tree\n",
    "        mc: int - number of Monte Carlo simulations\n",
    "        \n",
    "    Output:\n",
    "        probabilities: list - list of percolation threshold for different probabilities\n",
    "        x_threshold: float - percolation threshold coordinate x of p*\n",
    "        y_threshold: float - percolation threshold coordinate y of p*\n",
    "    \"\"\"\n",
    "    probabilities = []\n",
    "    for i in trange(len(ps)):\n",
    "        probability = 0\n",
    "        for j in range(mc):\n",
    "            matrix = generate_forest(L, ps[i])\n",
    "            _, hit_opposite_edge = fire_simulation(matrix)\n",
    "            if hit_opposite_edge == True:\n",
    "                probability += 1\n",
    "        probabilities.append(probability/100)\n",
    "        \n",
    "    x_threshold, y_threshold = calculate_percolation_threshold(probabilities, ps)\n",
    "    \n",
    "    return probabilities, x_threshold, y_threshold"
   ]
  },
  {
   "cell_type": "code",
   "execution_count": 10,
   "metadata": {},
   "outputs": [],
   "source": [
    "def calculate_percolation_threshold(probabilities, ps):\n",
    "    \"\"\"\n",
    "    Calculates coordiantes of (x, y) of percolation point\n",
    "    \n",
    "    Input:\n",
    "        probabilities: list - list of percolation threshold for different probabilities\n",
    "        ps: list - list of probabilities of populating a tree\n",
    "        \n",
    "    Output:\n",
    "        x_threshold: float - percolation threshold coordinate x of p*\n",
    "        y_threshold: float - percolation threshold coordinate y of p*\n",
    "    \"\"\"\n",
    "    increments = list(np.diff(probabilities))\n",
    "    max_increment = max(increments)\n",
    "    increments_index = increments.index(max_increment)\n",
    "    \n",
    "    x_threshold = ps[increments_index]/2 + ps[increments_index+1]/2\n",
    "    y_threshold = probabilities[increments_index]/2 + probabilities[increments_index+1]/2\n",
    "    \n",
    "    return x_threshold, y_threshold\n",
    "    "
   ]
  },
  {
   "cell_type": "code",
   "execution_count": 11,
   "metadata": {},
   "outputs": [],
   "source": [
    "def plot_percolation_threshold(probabilities, ps, x_threshold, y_threshold):\n",
    "    \"\"\"\n",
    "    Plots all values of probability that fire hit opposite edge and percolation threshold p*\n",
    "    \n",
    "    Input:\n",
    "        probabilities: list - list of percolation threshold for different probabilities\n",
    "        ps: list - list of probabilities of populating a tree\n",
    "        x_threshold: float - percolation threshold coordinate x of p*\n",
    "        y_threshold: float - percolation threshold coordinate y of p*    \n",
    "    \"\"\"\n",
    "    plt.figure(figsize=(16, 9))\n",
    "    plt.plot(ps, probabilities, '.', markersize=20, label='probability')\n",
    "    plt.plot(x_threshold, y_threshold, '*', markersize=20, label='percolation threshold')\n",
    "    plt.xlabel('Probability of planting trees', fontsize=20)\n",
    "    plt.ylabel('Probability of hitting an opposite edge', fontsize=20)\n",
    "    plt.title('Distribution of percolation threshold p* = %s for L = %s'% (round(x_threshold, 2), L), fontsize=24)\n",
    "    plt.legend(prop = {'size': 24})\n",
    "    plt.grid()"
   ]
  },
  {
   "cell_type": "code",
   "execution_count": 12,
   "metadata": {},
   "outputs": [],
   "source": [
    "def hk_find(x, label_list):\n",
    "    \"\"\"\n",
    "    \n",
    "    \"\"\"\n",
    "    y = x\n",
    "    label_list = label_list\n",
    "    while label_list[y] != y:\n",
    "        y = label_list[y]\n",
    "    while label_list[x] != x:\n",
    "        z = label_list[x]\n",
    "        label_list[x] = y\n",
    "        x = z\n",
    "    return y, label_list"
   ]
  },
  {
   "cell_type": "code",
   "execution_count": 13,
   "metadata": {},
   "outputs": [],
   "source": [
    "def hk_union(x, y, label_list):\n",
    "    label_list[hk_find(x, label_list)[0]] = hk_find(y, label_list)[0]\n",
    "    return label_list"
   ]
  },
  {
   "cell_type": "code",
   "execution_count": 14,
   "metadata": {},
   "outputs": [],
   "source": [
    "def hk_forest_clustering(matrix, plots=False):\n",
    "    burnt_trees = np.where(matrix == 3, 1, 0)\n",
    "    largest_label = 0\n",
    "    label = np.zeros(matrix.shape, dtype=int)\n",
    "    label_list = [i for i in range(L*L)]\n",
    "    for i in range(L):\n",
    "        for j in range(L):\n",
    "            if burnt_trees[i,j]:\n",
    "                left = label[i,j-1] if j-1 >= 0 else 0\n",
    "                above = label[i-1,j] if i-1 >= 0 else 0\n",
    "                if left == 0 and above == 0:\n",
    "                    largest_label += 1\n",
    "                    label[i,j] = largest_label\n",
    "                elif left != 0 and above == 0:\n",
    "                    label[i,j], label_list = hk_find(left, label_list)\n",
    "                elif left == 0 and above != 0:\n",
    "                    label[i,j], label_list = hk_find(above, label_list)\n",
    "                else:\n",
    "                    label_list = hk_union(left, above, label_list)\n",
    "                    label[i,j], label_list = hk_find(left, label_list)\n",
    "\n",
    "    clustered_forest = np.zeros(matrix.shape, dtype=int)\n",
    "    for i in range(L):\n",
    "        for j in range(L):\n",
    "            current_label = label[i,j]\n",
    "            while current_label != label_list[current_label]:\n",
    "                current_label = label_list[current_label]\n",
    "            clustered_forest[i,j] = label_list[current_label]\n",
    "    \n",
    "    if plots:       \n",
    "        plt.figure(figsize=(16,16))\n",
    "        plt.subplot(2,2,1)\n",
    "        plt.imshow(matrix, interpolation=\"nearest\", cmap=ListedColormap(['white', 'green', 'black']))\n",
    "        plt.subplot(2,2,2)\n",
    "        plt.imshow(np.where(matrix == 3, 1, 0), interpolation=\"nearest\", cmap=ListedColormap(['white', 'black']))\n",
    "        plt.subplot(2,2,3)\n",
    "        plt.imshow(label, interpolation=\"nearest\")\n",
    "        plt.subplot(2,2,4)\n",
    "        plt.imshow(clustered_forest, interpolation=\"nearest\")\n",
    "        \n",
    "    return clustered_forest"
   ]
  },
  {
   "cell_type": "code",
   "execution_count": 15,
   "metadata": {},
   "outputs": [],
   "source": [
    "def hk_biggest_cluster_size(matrix, plot=False):\n",
    "    size_counts = np.bincount(matrix.flat[:])[1:]\n",
    "    biggest_cluster_label = np.bincount(matrix.flat[:])[1:].argmax()\n",
    "    biggest_cluster_size = size_counts[biggest_cluster_label]\n",
    "    \n",
    "    if plot:\n",
    "        plt.figure(figsize=(8,8))\n",
    "        plt.imshow((np.where(matrix == biggest_cluster_label+1, 1, 0) + np.where(matrix > 0, 1, 0)),\n",
    "                   interpolation=\"nearest\", cmap=ListedColormap(['white', 'grey', 'blue']))\n",
    "    \n",
    "    return biggest_cluster_size"
   ]
  },
  {
   "cell_type": "markdown",
   "metadata": {},
   "source": [
    "## Visualisation of spreading of fire"
   ]
  },
  {
   "cell_type": "code",
   "execution_count": 16,
   "metadata": {},
   "outputs": [],
   "source": [
    "L = 10\n",
    "p = 0.45"
   ]
  },
  {
   "cell_type": "code",
   "execution_count": 17,
   "metadata": {},
   "outputs": [],
   "source": [
    "matrix = generate_forest(L, p)"
   ]
  },
  {
   "cell_type": "code",
   "execution_count": 18,
   "metadata": {},
   "outputs": [],
   "source": [
    "states, hit_opposite_edge = fire_simulation(matrix)"
   ]
  },
  {
   "cell_type": "code",
   "execution_count": 19,
   "metadata": {},
   "outputs": [],
   "source": [
    "animation = create_frames(states)\n",
    "animation.save('burning_forest.gif')\n",
    "plt.close()"
   ]
  },
  {
   "cell_type": "code",
   "execution_count": 20,
   "metadata": {
    "scrolled": false
   },
   "outputs": [
    {
     "data": {
      "text/html": [
       "<video width=\"640\" height=\"480\" controls autoplay loop>\n",
       "  <source type=\"video/mp4\" src=\"data:video/mp4;base64,AAAAIGZ0eXBNNFYgAAACAE00ViBpc29taXNvMmF2YzEAAAAIZnJlZQAAGi5tZGF0AAACrQYF//+p\n",
       "3EXpvebZSLeWLNgg2SPu73gyNjQgLSBjb3JlIDE2MyByMzA1OSBiNjg0ZWJlIC0gSC4yNjQvTVBF\n",
       "Ry00IEFWQyBjb2RlYyAtIENvcHlsZWZ0IDIwMDMtMjAyMSAtIGh0dHA6Ly93d3cudmlkZW9sYW4u\n",
       "b3JnL3gyNjQuaHRtbCAtIG9wdGlvbnM6IGNhYmFjPTEgcmVmPTMgZGVibG9jaz0xOjA6MCBhbmFs\n",
       "eXNlPTB4MzoweDExMyBtZT1oZXggc3VibWU9NyBwc3k9MSBwc3lfcmQ9MS4wMDowLjAwIG1peGVk\n",
       "X3JlZj0xIG1lX3JhbmdlPTE2IGNocm9tYV9tZT0xIHRyZWxsaXM9MSA4eDhkY3Q9MSBjcW09MCBk\n",
       "ZWFkem9uZT0yMSwxMSBmYXN0X3Bza2lwPTEgY2hyb21hX3FwX29mZnNldD0tMiB0aHJlYWRzPTYg\n",
       "bG9va2FoZWFkX3RocmVhZHM9MSBzbGljZWRfdGhyZWFkcz0wIG5yPTAgZGVjaW1hdGU9MSBpbnRl\n",
       "cmxhY2VkPTAgYmx1cmF5X2NvbXBhdD0wIGNvbnN0cmFpbmVkX2ludHJhPTAgYmZyYW1lcz0zIGJf\n",
       "cHlyYW1pZD0yIGJfYWRhcHQ9MSBiX2JpYXM9MCBkaXJlY3Q9MSB3ZWlnaHRiPTEgb3Blbl9nb3A9\n",
       "MCB3ZWlnaHRwPTIga2V5aW50PTI1MCBrZXlpbnRfbWluPTUgc2NlbmVjdXQ9NDAgaW50cmFfcmVm\n",
       "cmVzaD0wIHJjX2xvb2thaGVhZD00MCByYz1jcmYgbWJ0cmVlPTEgY3JmPTIzLjAgcWNvbXA9MC42\n",
       "MCBxcG1pbj0wIHFwbWF4PTY5IHFwc3RlcD00IGlwX3JhdGlvPTEuNDAgYXE9MToxLjAwAIAAABPZ\n",
       "ZYiEABH//veIHzLLafk613IR560urR9Q7kZxXqS9/iAAAAMAAAMAAGVA3ylQf3lw3OAAAATwStb+\n",
       "jJP7vcwAmlZWDMQYp5J2R0g2/99dQuWkn5o3k3ZmGqsf5u+QcbZgMMH2uGyK6GkNhCydXa1oGEkG\n",
       "XgS2DxR1Hul2m7fLjSMh0FXO/r6mUZRHWsWnLQlE0MVAN9TIBgvAaPVZX4AcublyaHYxCr58EwKG\n",
       "zSwYnngv8uhcMPWmBM7fgbP1c9LdR6pDrG9I6SSUxzdz+pq9lmBI5i+DGJ9R+wmu5f18DEe9Mnrr\n",
       "v3WHbmDxDQbK/AM3J2UWiJoCGlYK5xY1mc9gLGpxC1UmSucvLSNkJO6+hvyv3BeT9Op3RAiI8wKj\n",
       "tAk6Q93Q2Dts5tejr78TKvIcuNGPvZHhxCJhsFMsclput2x2+p9iSHeqZbVxf81F4rR3z2EEpHnd\n",
       "TkbPL5haO4ug5kajPgNvm9drDhmzTZDQ/Rlh/tX5LNwOJWGfDEE/v6FnWZ18q+MZaJyo0UM42KYn\n",
       "mdxnX6qcUsETMd3jwUmG2wX5wJRA3IZGRRzKG2wzhqkWxWNZng1MzGmWIrpoxxkWLj304rqvp5A9\n",
       "vIsCdl/lhsw2a5hf36o2ekQZKU/YTF5er1ab8qhg803wKXEE492FbIFCUGOaXKC4ZZ4MBDOZzJKy\n",
       "Kz+zGVNAfa4+4o7BXHroufR6n7PDy8MroF3/gnvkAM0U3sOIC4+yqeDqmwdSCJXSVzYdKctQYiyc\n",
       "xgTs6V9Mg1qr+uJy86ChO3Ok8Jo0Mt5gtKjDZ5Gnjx6h/XWueAppaMUm9RAvK4efZXAT1EbbNTh9\n",
       "M0EHD4giy4632xxwNq2S6v0iubFZkb9HAF//0qPnL/9ZXHgioajZgZn/NJB6R4JhuI5FNb9JGq5A\n",
       "TkscbTZRzn3t2g47LRQNj0qJn/KPVndWsa/CSx6+kKtkVEyBe246E26OMOdWVuzCD1qBsqSeWgIM\n",
       "MVPTdSLA1R9eX04h0vjKrPgP4ru00YiOzcxXd/dWV5MeZ2+3uubKk2+g0VTDirRDCxpXvOnk0W+f\n",
       "Yw20dcEvaxXSe1wvUC9QvpZJyg7QKvXozJQxLQR2wvKSEGHvpv1YyQO6G5y+BaQplmrOSFI6G9ll\n",
       "m1cXu0QtOnQ0QwHAmGZI5jN1Ueac6VB/gIU5TNiESUSjVM7UBPII5FzUhv7cJuHYOCsq/0b0s0TS\n",
       "/KCzUJM18KJw1fDleR2IgrcwciH03ikn04AYVf6eNnHreiiCikJpRwyODMJiBCfMGDINFx00YYy0\n",
       "LiCNCcNTtWGF65Ja6P9hxTCbDrJWoOqqAXCILAOcWiv+i5ItvzbS2fkBYAfSXW5jE6oL8ka/WV5i\n",
       "TPGA08S/j3ri40GgjU6quuaJish0U+fJK8js40PywhfTB61NzdnwkNiYVkTgiijRL/K/P+iZV6ku\n",
       "7aucDGsVvu0sMMsb2N9ZHu+8U5Ehsj2Ncza2YmF3l/7hx9uEFc7WexghU/u2E3mCsQYgidPSCcQ5\n",
       "Il8Hscvm7Xpvt1KS6rtXhvJN+2BP75z9be19f4sMlRdeLolzkGK5Pf3pG8X9yoqGT7S9XvIOc6Ac\n",
       "ijHc1vSQpBFjTJC9sS+O8AVdS3No2JEgCxvOgi+UMbDjBeFZP+WZ0K0H/ZIErQV7eqzdvlp9qCqt\n",
       "+vW1WuZXD4F20Y5yUMBVcumhWiJ74M7WtXSB++GWrp+DCdkgfvfdOD4pLg116k/+hx9jNXUUWYMb\n",
       "zJheZwGwFu81OaX/zwGgRwgKWrA8fisUf2JDAsFhjYFgh9FnOzHVPFqjm8UfEVVze5gvC/3cySyP\n",
       "SSaoC2p2W7PI1zE0n+5FeDCQe3WcYvsSAcrCKbvGC5ibDc32J+X67tennWbma24i9y5lfWG5EDKL\n",
       "ZClihKDlbTH/F/jbeHmJkJgbHUFoa1oAYTAQMGDgJotXAHyGsHUP+QXB0IREukptlIiJROahMLwz\n",
       "FIGRTdhPvJa76/wna0ypF/t4SKXcmGtJjPitsTlsdcHl04xIPPyTGK3Rn3eyf382S2NIBr+ow2T3\n",
       "+wcwDtlK/dGEA5TTBRR1Amnnm4JzNb7yvhxch5/ITlXThs0dFSYPGGHsTOqnq25OSYXPdmhoAeVj\n",
       "AggzXKu6HvB6AM0B9/JXkPoK7/AY94IKPhnIGlHzmdKSPFpUkRwGeENJXWcxSwWwt03WmEf3xJ/w\n",
       "56UWUjdOIaek5dsj/0Ag9u3JfXVVB1io/eR7fchcbW2NuPYpsIxeOzRidPyRC8x01YwnbWtoKvDt\n",
       "bHxK9177qn7+sxAAhE+8NXSeW4eNIqM613b/CeItX4u4Y7n9SKllncFVv22mUtdEserhZFZzu5sE\n",
       "KLP8Yq5Q1gvGBZ+XvdBn9zKgC1dShK+18Y+pF6T0OR4YJvsGL55A91D+R+jhH3XGWwkZOZlH+rby\n",
       "y8+UksGnJK+Jrq4iYFwD5dLTLz3ULz9RkULj/mvKeCqXXoNFaADZyGmSjQJf4MGMhEAx6eRYUj9G\n",
       "3Hz7ZIIlZve08JaXqraJhu0FlTQR+22hrFOjXoRgloz+CmxrDmZyI7dJBtZosYCF7zgXPVz2Y5YA\n",
       "AMQ9y9yHjXvJWHHeMazGeuptTX60/zv12gGW9GLSPdvyO+f5XAhQ6qMAY/Aj8ZtMndOEQW5d5p4o\n",
       "+D6Cd/XWAV4yywi/Mo5R3ZaQ3dCGc68uD7ivmu2ynJ82TP8bR1bc4sHtn86p2YJ17nufw3mG0byf\n",
       "yLNprId9fIkE06TEmh5AkfD2p5HrptGoOW8ge4kzTUm6UuYD4dk2lBn2ozg42kxJZZ51BacN/we+\n",
       "XWWhLe6UVdW2D0+XAyh3nWJwxe4pFFfi4mNUQgLXSpfJiUSa02f8uyvTkx395jGtFVSmbkD35kvB\n",
       "JaTdn85h90978pNCivVEmhvvNvQozPMrDJ+YnVzgacqG8753+jRuCHK8zA7eCIwP3TlLWjS2VMSK\n",
       "boO25CzRHh90tgo3AC6P73h/BV9rKiYZy/+TsynI21SOA4NAABQwEtToJu4ceRHZTLVdjJ07H7dS\n",
       "ZCrYV9ePeVypSBK8XhuuPEGSVaJfhO36XYmmm67QThRVZOGtJW81W4zgyS8hIyxSCOlXMY9/Lhaq\n",
       "HMU2du1lVEb8FjQcIFzYQHC553FBtdVX8AfTy+xyIgkm4fxv1NyEuZ+t4FygV7+DwKQdKrsYV9E9\n",
       "QZruBSZZtG6xPUKYAXTbQjNI/CdFXxXXuAmg5D76184gyT1xSxlNUKmAyLC5gX1vEFPc1dOHdoOq\n",
       "AA0cpKhI6YLsh29VBXbyMgLDOkgLco4y/XOmaVGx1in+ooX4yj/p6qaRDtEYkbc1XQ7KagtSElYf\n",
       "t0b8Ed5lS3sfM4K9KamsNmw1KWIYRs2qdHoyMbd41fl2xvNKcIpfN6r9WOJz6z784d6diaJkjSXj\n",
       "H6Ojqcfd9/OFGT0/zwkz4bEhcTH6azq404zjbUM406/B3XDWLv93+nilUwNBJKLYe0KHQckd6Wir\n",
       "pBCWu0GC10lcf6PY/Ua/ZRniCoHjUpvOggumAjx+8c3sXz57v3GZI3vdY37Z5AAgpJSYAaaGkj8h\n",
       "xIkJ/qhtbSDcSzQuQ018kT1NyNgeAtvpJQiQdpdcSmpNsCmWKWABk7oH0ibP5TSKdOIwmMWMF/Gt\n",
       "rt4ldRqn/zj48hQwLitXe2PUFl0sWN8zBDqMy2trXwAi3TcQc9G3DF0GYfPCOc9RlR3/0fiQnmk0\n",
       "LBO29nfWchBL81w1QTI2IC7w/v5wPveis9tz+ZiJbUKAHF886hFgEkGEOxO0ClxoRh289H/hBFNQ\n",
       "I5JR+0c8SH9K0cfDPq4HA5AOeKVmYaccHT5fTYqfmF5ef/3009NHpVTd807TvC0Er3/Q5OsNvvTy\n",
       "8PNiPlIE3UOhzP8Z8OTx2ddLLpMW+fAqIVeSp8iP5o4qF02LGOv5vX8+w5xtgKYthbkMqdGqIuXy\n",
       "RLY7j4ZI/Pc/EGlP3x3X853fqDhMB2SQxqkDAAJs328yJ/Cs6puu3aD/ACLMIWri3Qt1Fx/Jdpkm\n",
       "F7pc8HlpyK8MOKCUwWX1oAoKx304Y7Vyaf4ka9V9Z6Sfhzdbh/cZkysQxBOarnsolcUTBxcG3+SJ\n",
       "J6kGbV/7+m9cCxlCkg/YKAf3LTYdpR6vB0x+GP51i9lLECttQW4MYaWbtijuJYS88iuHkoEtW8gh\n",
       "3Nd5YeIyHIzr4HLuzmk4ueh+kRXGoHGtbOB0xspsWE8JdwDldAy7ziqejULJcpdArrOaaipFE78/\n",
       "/oeCgXJ2I0y19lIXdtfpVdULAT3ANGSJTE8PJFb5d39XyX24Z+xDN59+9vMJfLL/dG9nKbr6HN80\n",
       "CjVwmxdxIWudBWXKuLgG7Om5NM+gvqEguHs6NUsKjch8JMW7kak8ilUJ9e6j48Xla8QQvJTXIszz\n",
       "u8S0NAZHlSoQtOEzjE9m0ij9YJr7209Wn4M9M4LmWRTryEMnfC7Vwzn5tPuEl4wCgCdo5pCtUywz\n",
       "ANq5A/M7ES2U7m9U96TPKDjRSlbC8ixuaBES4oWM5hPHqx613db3vUM+MO0PNaeZG6Keu7fnb+o1\n",
       "Mv2GtpvtD19XVG2n1m974O9PM78PeEHumHCk9juhWwQlET/WmmE1/FI6W9K3WElI6Nu1ViQX/gVw\n",
       "zhHsGMWk5Syje7kus4lvsAsHa5FVhTdDyR/jqP4hXiAaop2rNzbV63k5tuwF6qVnyku9TDvz53ei\n",
       "gz48GtiOmKXaP4YePHmVYHDhKWsFJGwSio3K/N9UiH2+FCf1h3FH8ssEtybEocnZJn/xNNZDuz1r\n",
       "9uJUSTgKQxu2P8Xi82/1VMb5BHZgIRaE8ABItLDEqe/4n6m9j/GOf9DXfAFCyIXgjdH5ajMDe/6C\n",
       "6MLM/vONM/1Y05uDozBbK8Pbt5rNyejJFoVIaOf/Ek40r/6RMfHR/FF2bSUMXAAv4VNZO0LvnUF5\n",
       "Ex5cHd+xEnzKcs61dkrS8C+uZFf/qk5GFG1SJwDd7WZDf8YGMZtNmHd/VJN/x/PJ07EQieLfjvpo\n",
       "t3n0WWKwBiI5Rs/+GNfZ3M58W1IKtnrD0kdq+Tcf2OlrtYTMUoxIO7m9PNgFpFyKHqfrHwxPX/3/\n",
       "rFGCJZ51mKn+pKq2PXRYiuzWiN760+YLWY0qo/eE/Abjr0vLG7oT/mVLdTsc6BsAI1O4gnvW8lxY\n",
       "uN2dVAcmWADRCrhd+s1meScqTYCgLgFupOV33dwE0pmqn+GftNozToPKys1/OGtcW/k+zkFOi6+w\n",
       "goC6kZu0prbvg8Njar41K9i/agtFzI7cEsXitDJN6sa2ZJMG9NjSs+0y7bE4sQxcdKoBAwA9ZgUU\n",
       "I32Tw5/zXe7oAOaALHidOY1CMzCzo2QgCMJFa4QOs1MlemJrOqsmvQ28IntzJc7GISogv4wK+a/A\n",
       "0wbhcyi/3C399ujZJNa+cPuchY3mRakcfjRE5GUGZjA4nvH8Ck3mMaY5RWT0cLa4Bj0sFBjbssfX\n",
       "vqOz3ExybMHM1+lGHhRVO5x3sAM8cPyipUKrRIZx/68i+JkLJQVwAAPqB3Ud2X0SzMoRomx18F26\n",
       "hBF+qnpQJpGu+kewHerQiT8HXuTkzn6dquNVIh1+9CsrcaC6UCRQHyXwLAbKnmxvpt17inXxc8OB\n",
       "FVolVmjzvFYzMMZ598+ORsezlQ6v/PcVChv5Mw+3b8T5YkFaU1997tJ+kkitwag8wlPMkfKzmxTR\n",
       "1om3dAaBIUSexJfISM+95KqYqyDWKsfHBdhFkPmO+rz0j1snyOQdXCbdkcIlnWyYAnHQ+XCYi4VY\n",
       "XX3o+5Pi1Y0/iwt5Usmjq+HqejV5mtqiPd2uo232IbD7Ro2H0+gaBCT1+FJVJvku3Dg0yXF+sc2i\n",
       "9Tm1cMT5FABVBx7BW8F5uXC1s6289yDdo3War3H1Y29LkGzrAF/RpmmxBXU6xLoN0lyREWp5s+fM\n",
       "OpWTQ7WAeUYl8DavBveOWSTKPrW9KYYRYkByi0x/hfqRkCVXl0YXPqufFJnD+vqQjPEMDcPivcx9\n",
       "Aq8ft1wU+6nbxzPcpsWxfZiGZF7oo1xFFFJvwE/C44sF6tkopjqVsQv7efjeyNdpUKwVoAjKN2uf\n",
       "tDxBZoZ0Ve0lbbKzOIK4EP+8xUr3tVvtDFcvVgsf9zNXZPW2AduQoQ9y9uzX58YqQLkH1XYDAICT\n",
       "ca72ttp76TOU6td9xg4sSsjb9MZmpG2QNwjPhvI/NJrw0jsLsBkIyrXkp94zVHQyKxtapVnONUTt\n",
       "7du7G6+rS4jCFe9b2dBavY3ZMylpHu66m0Ra7gFtq8MW0FogdWuauyMlJAad5Xw2WfF3SNmAx5fY\n",
       "NGpZGvNoQTxlFvzYOJEoym3nHu73rvqKE8TTwqwxVqG59zxtCucFm6FMypbQXOknB0z3jhWYop0N\n",
       "80OAntokczNDvDYQ99Qmk9A7pBqsDq9gQjPdNnCUtj4MxeXwt4OVUlncVSznoo6lBmLP5l5fm5rB\n",
       "gMOjkVWEJMdlkwJuPQSXdqK4BuPeS34GQG+QKgrsM9L6bOVILoMklBgnaB5L+Yit1u4al2Q69Op6\n",
       "PbQTlE5GaXHsP5xLxGMf8NJgetwr8ETQYcYfukrHPU7NedesAfp8EU2FKj/Xj9vAfTDO7NK/SdWp\n",
       "BBC3zGMdaUamDlY9Bm1gpHb7fHfo8L8L7iSbH8daUWvneLUTCxAnLnP3zB/NTQrUzly7AG2yrw1h\n",
       "wJfh5mO/VrBTcrwZ0fj2PIbUpRbPRJq3DirYOIpaWdA5ezc4lScIYILn7guDSsiqd6Q6DE2HIdJA\n",
       "B0Z28mAAC3kAAAJJQZoibEP//qmWAEgGDmvKtABtQ9FdL3u8owHgc7hIwpk8JDDnqnlPouJ63qRX\n",
       "oaA89MhBZOVKqBpaoAeXFT4cdA4vj9ksIFS6u3SdizRhYLjrg2EjaLrf3gKPGNbLluiKZst75hHa\n",
       "25pjdXtGxrO23HTbJVJhkEG/P/SXyAKfAGfpPTVj45z1hWiZd5kgokiVzk0POcvaL1KM0WY6PmWF\n",
       "wkRA68cELMZF+Ce1f+jmoOPjd5Nho2tpZGH9Thfl+Eyv9IxtAoxmyWcJi+KegJB3Fc28kGWpCdD2\n",
       "UrOnqoYORCaPOCuV0CcQfSOs4Dp8X9Yl3w+1qWpG45WN0fntg1nZVzcrpGyVxQ83AslvK79iFCnn\n",
       "Q3ycd/CHlIjiAcyqSUMCy7dDg13c12u4hyPYq+3Nh9xnSbUPaZNCFpojyWkL9jJjRQiXBi7kCxZL\n",
       "waRWK5ERSQuUUjyKOxdBFI083NflgTRps2ghEWBZQ2LvPxQAcHWW6OqrletVmMs0ywiYbDfzN0sY\n",
       "KGg+BeLsmf8f0TlvT+pN/wnpziTbexIcTdyQwWT8OYnOuC+8yBzq+Bwp/SvOFSzigUgq4fdk68U9\n",
       "30+GDzEb/ITlAzo6OIYA/OetQaZTFYGCGJv8IGBphgBxP9uTEjDwdzX8HSWuVIKykmR1Cu4a5yV7\n",
       "OS+2W8CVLf/ls4m8IAdNZQ5Y9E/bj8YnULxwYYc0m1zexBsC1rGflxINWynqDyXrKz2ktPyJUwQP\n",
       "barpbsG59YJrJzVtmIWLF6d4XvlEVk3wG6PmAAABRwGeQXkP/wAZv/nS8QCxDZxUO3nmmVSgY7+x\n",
       "GIosXha7JEH5BGK6Z4vDf58zitll/cRPa8h1n5BibI7pSt6spYb9Os5R3J3UACcAweJykIpm3k5o\n",
       "AeB+QlE0pLETBG2fbL+YVHUyI+D1hdlSKej2tvBGrbffV1//LmTiRnGB1kHGmy+1BaxsrkejYoyF\n",
       "1y2vMUAmxM0Ol9PTISVEGjbFxZPfCQYfI8oiTdQoQLNl9xYLfgW7a0swR/xLWHRGU2UH98yAIdSE\n",
       "QV9AxOi1gvP7xkZdkJS4uZemfvp3gPTaaey+8g3RXnxVANtIBgqzCE4WCmfWYW7LLcoZs8erFA65\n",
       "ijUxzSrpjSFEwnDIonS0AD+0Cb1rzMKnoUwpzsCBf5RDGoCxPvIYfvLS65AK++U1WMvRQsSgwWHi\n",
       "GkqDRt/yGa5pUTH9PopZQQAAA1Vtb292AAAAbG12aGQAAAAAAAAAAAAAAAAAAAPoAAACWAABAAAB\n",
       "AAAAAAAAAAAAAAAAAQAAAAAAAAAAAAAAAAAAAAEAAAAAAAAAAAAAAAAAAEAAAAAAAAAAAAAAAAAA\n",
       "AAAAAAAAAAAAAAAAAAAAAAACAAACgHRyYWsAAABcdGtoZAAAAAMAAAAAAAAAAAAAAAEAAAAAAAAC\n",
       "WAAAAAAAAAAAAAAAAAAAAAAAAQAAAAAAAAAAAAAAAAAAAAEAAAAAAAAAAAAAAAAAAEAAAAACgAAA\n",
       "AeAAAAAAACRlZHRzAAAAHGVsc3QAAAAAAAAAAQAAAlgAABAAAAEAAAAAAfhtZGlhAAAAIG1kaGQA\n",
       "AAAAAAAAAAAAAAAAACgAAAAYAFXEAAAAAAAtaGRscgAAAAAAAAAAdmlkZQAAAAAAAAAAAAAAAFZp\n",
       "ZGVvSGFuZGxlcgAAAAGjbWluZgAAABR2bWhkAAAAAQAAAAAAAAAAAAAAJGRpbmYAAAAcZHJlZgAA\n",
       "AAAAAAABAAAADHVybCAAAAABAAABY3N0YmwAAAC3c3RzZAAAAAAAAAABAAAAp2F2YzEAAAAAAAAA\n",
       "AQAAAAAAAAAAAAAAAAAAAAACgAHgAEgAAABIAAAAAAAAAAEAAAAAAAAAAAAAAAAAAAAAAAAAAAAA\n",
       "AAAAAAAAAAAAAAAY//8AAAA1YXZjQwFkABb/4QAYZ2QAFqzZQKA9oQAAAwABAAADAAoPFi2WAQAG\n",
       "aOvjyyLA/fj4AAAAABx1dWlka2hA8l8kT8W6OaUbzwMj8wAAAAAAAAAYc3R0cwAAAAAAAAABAAAA\n",
       "AwAACAAAAAAUc3RzcwAAAAAAAAABAAAAAQAAAChjdHRzAAAAAAAAAAMAAAABAAAQAAAAAAEAABgA\n",
       "AAAAAQAACAAAAAAcc3RzYwAAAAAAAAABAAAAAQAAAAMAAAABAAAAIHN0c3oAAAAAAAAAAAAAAAMA\n",
       "ABaOAAACTQAAAUsAAAAUc3RjbwAAAAAAAAABAAAAMAAAAGF1ZHRhAAAAWW1ldGEAAAAAAAAAIWhk\n",
       "bHIAAAAAAAAAAG1kaXJhcHBsAAAAAAAAAAAAAAAALGlsc3QAAAAkqXRvbwAAABxkYXRhAAAAAQAA\n",
       "AABMYXZmNTkuMi4xMDE=\n",
       "\">\n",
       "  Your browser does not support the video tag.\n",
       "</video>"
      ],
      "text/plain": [
       "<IPython.core.display.HTML object>"
      ]
     },
     "execution_count": 20,
     "metadata": {},
     "output_type": "execute_result"
    }
   ],
   "source": [
    "HTML(animation.to_html5_video())"
   ]
  },
  {
   "cell_type": "markdown",
   "metadata": {},
   "source": [
    "## Calculation of percolation thresholds p*"
   ]
  },
  {
   "cell_type": "code",
   "execution_count": 21,
   "metadata": {},
   "outputs": [],
   "source": [
    "L = 20\n",
    "ps = np.linspace(0, 1, 51)\n",
    "mc = 100"
   ]
  },
  {
   "cell_type": "code",
   "execution_count": 22,
   "metadata": {},
   "outputs": [
    {
     "name": "stderr",
     "output_type": "stream",
     "text": [
      "100%|██████████████████████████████████████████████████████████████████████████████████| 51/51 [08:20<00:00,  9.82s/it]\n"
     ]
    },
    {
     "data": {
      "image/png": "[encoded data removed]",
      "text/plain": [
       "<Figure size 1152x648 with 1 Axes>"
      ]
     },
     "metadata": {
      "needs_background": "light"
     },
     "output_type": "display_data"
    }
   ],
   "source": [
    "probabilities_L_20, x_threshold, y_threshold = percolation_threshold(L, ps, mc)\n",
    "plot_percolation_threshold(probabilities_L_20, ps, x_threshold, y_threshold)"
   ]
  },
  {
   "cell_type": "markdown",
   "metadata": {},
   "source": [
    "## Clustering"
   ]
  },
  {
   "cell_type": "code",
   "execution_count": 23,
   "metadata": {},
   "outputs": [
    {
     "data": {
      "text/html": [
       "<video width=\"640\" height=\"480\" controls autoplay loop>\n",
       "  <source type=\"video/mp4\" src=\"data:video/mp4;base64,AAAAIGZ0eXBNNFYgAAACAE00ViBpc29taXNvMmF2YzEAAAAIZnJlZQAAGi5tZGF0AAACrQYF//+p\n",
       "3EXpvebZSLeWLNgg2SPu73gyNjQgLSBjb3JlIDE2MyByMzA1OSBiNjg0ZWJlIC0gSC4yNjQvTVBF\n",
       "Ry00IEFWQyBjb2RlYyAtIENvcHlsZWZ0IDIwMDMtMjAyMSAtIGh0dHA6Ly93d3cudmlkZW9sYW4u\n",
       "b3JnL3gyNjQuaHRtbCAtIG9wdGlvbnM6IGNhYmFjPTEgcmVmPTMgZGVibG9jaz0xOjA6MCBhbmFs\n",
       "eXNlPTB4MzoweDExMyBtZT1oZXggc3VibWU9NyBwc3k9MSBwc3lfcmQ9MS4wMDowLjAwIG1peGVk\n",
       "X3JlZj0xIG1lX3JhbmdlPTE2IGNocm9tYV9tZT0xIHRyZWxsaXM9MSA4eDhkY3Q9MSBjcW09MCBk\n",
       "ZWFkem9uZT0yMSwxMSBmYXN0X3Bza2lwPTEgY2hyb21hX3FwX29mZnNldD0tMiB0aHJlYWRzPTYg\n",
       "bG9va2FoZWFkX3RocmVhZHM9MSBzbGljZWRfdGhyZWFkcz0wIG5yPTAgZGVjaW1hdGU9MSBpbnRl\n",
       "cmxhY2VkPTAgYmx1cmF5X2NvbXBhdD0wIGNvbnN0cmFpbmVkX2ludHJhPTAgYmZyYW1lcz0zIGJf\n",
       "cHlyYW1pZD0yIGJfYWRhcHQ9MSBiX2JpYXM9MCBkaXJlY3Q9MSB3ZWlnaHRiPTEgb3Blbl9nb3A9\n",
       "MCB3ZWlnaHRwPTIga2V5aW50PTI1MCBrZXlpbnRfbWluPTUgc2NlbmVjdXQ9NDAgaW50cmFfcmVm\n",
       "cmVzaD0wIHJjX2xvb2thaGVhZD00MCByYz1jcmYgbWJ0cmVlPTEgY3JmPTIzLjAgcWNvbXA9MC42\n",
       "MCBxcG1pbj0wIHFwbWF4PTY5IHFwc3RlcD00IGlwX3JhdGlvPTEuNDAgYXE9MToxLjAwAIAAABPZ\n",
       "ZYiEABH//veIHzLLafk613IR560urR9Q7kZxXqS9/iAAAAMAAAMAAGVA3ylQf3lw3OAAAATwStb+\n",
       "jJP7vcwAmlZWDMQYp5J2R0g2/99dQuWkn5o3k3ZmGqsf5u+QcbZgMMH2uGyK6GkNhCydXa1oGEkG\n",
       "XgS2DxR1Hul2m7fLjSMh0FXO/r6mUZRHWsWnLQlE0MVAN9TIBgvAaPVZX4AcublyaHYxCr58EwKG\n",
       "zSwYnngv8uhcMPWmBM7fgbP1c9LdR6pDrG9I6SSUxzdz+pq9lmBI5i+DGJ9R+wmu5f18DEe9Mnrr\n",
       "v3WHbmDxDQbK/AM3J2UWiJoCGlYK5xY1mc9gLGpxC1UmSucvLSNkJO6+hvyv3BeT9Op3RAiI8wKj\n",
       "tAk6Q93Q2Dts5tejr78TKvIcuNGPvZHhxCJhsFMsclput2x2+p9iSHeqZbVxf81F4rR3z2EEpHnd\n",
       "TkbPL5haO4ug5kajPgNvm9drDhmzTZDQ/Rlh/tX5LNwOJWGfDEE/v6FnWZ18q+MZaJyo0UM42KYn\n",
       "mdxnX6qcUsETMd3jwUmG2wX5wJRA3IZGRRzKG2wzhqkWxWNZng1MzGmWIrpoxxkWLj304rqvp5A9\n",
       "vIsCdl/lhsw2a5hf36o2ekQZKU/YTF5er1ab8qhg803wKXEE492FbIFCUGOaXKC4ZZ4MBDOZzJKy\n",
       "Kz+zGVNAfa4+4o7BXHroufR6n7PDy8MroF3/gnvkAM0U3sOIC4+yqeDqmwdSCJXSVzYdKctQYiyc\n",
       "xgTs6V9Mg1qr+uJy86ChO3Ok8Jo0Mt5gtKjDZ5Gnjx6h/XWueAppaMUm9RAvK4efZXAT1EbbNTh9\n",
       "M0EHD4giy4632xxwNq2S6v0iubFZkb9HAF//0qPnL/9ZXHgioajZgZn/NJB6R4JhuI5FNb9JGq5A\n",
       "TkscbTZRzn3t2g47LRQNj0qJn/KPVndWsa/CSx6+kKtkVEyBe246E26OMOdWVuzCD1qBsqSeWgIM\n",
       "MVPTdSLA1R9eX04h0vjKrPgP4ru00YiOzcxXd/dWV5MeZ2+3uubKk2+g0VTDirRDCxpXvOnk0W+f\n",
       "Yw20dcEvaxXSe1wvUC9QvpZJyg7QKvXozJQxLQR2wvKSEGHvpv1YyQO6G5y+BaQplmrOSFI6G9ll\n",
       "m1cXu0QtOnQ0QwHAmGZI5jN1Ueac6VB/gIU5TNiESUSjVM7UBPII5FzUhv7cJuHYOCsq/0b0s0TS\n",
       "/KCzUJM18KJw1fDleR2IgrcwciH03ikn04AYVf6eNnHreiiCikJpRwyODMJiBCfMGDINFx00YYy0\n",
       "LiCNCcNTtWGF65Ja6P9hxTCbDrJWoOqqAXCILAOcWiv+i5ItvzbS2fkBYAfSXW5jE6oL8ka/WV5i\n",
       "TPGA08S/j3ri40GgjU6quuaJish0U+fJK8js40PywhfTB61NzdnwkNiYVkTgiijRL/K/P+iZV6ku\n",
       "7aucDGsVvu0sMMsb2N9ZHu+8U5Ehsj2Ncza2YmF3l/7hx9uEFc7WexghU/u2E3mCsQYgidPSCcQ5\n",
       "Il8Hscvm7Xpvt1KS6rtXhvJN+2BP75z9be19f4sMlRdeLolzkGK5Pf3pG8X9yoqGT7S9XvIOc6Ac\n",
       "ijHc1vSQpBFjTJC9sS+O8AVdS3No2JEgCxvOgi+UMbDjBeFZP+WZ0K0H/ZIErQV7eqzdvlp9qCqt\n",
       "+vW1WuZXD4F20Y5yUMBVcumhWiJ74M7WtXSB++GWrp+DCdkgfvfdOD4pLg116k/+hx9jNXUUWYMb\n",
       "zJheZwGwFu81OaX/zwGgRwgKWrA8fisUf2JDAsFhjYFgh9FnOzHVPFqjm8UfEVVze5gvC/3cySyP\n",
       "SSaoC2p2W7PI1zE0n+5FeDCQe3WcYvsSAcrCKbvGC5ibDc32J+X67tennWbma24i9y5lfWG5EDKL\n",
       "ZClihKDlbTH/F/jbeHmJkJgbHUFoa1oAYTAQMGDgJotXAHyGsHUP+QXB0IREukptlIiJROahMLwz\n",
       "FIGRTdhPvJa76/wna0ypF/t4SKXcmGtJjPitsTlsdcHl04xIPPyTGK3Rn3eyf382S2NIBr+ow2T3\n",
       "+wcwDtlK/dGEA5TTBRR1Amnnm4JzNb7yvhxch5/ITlXThs0dFSYPGGHsTOqnq25OSYXPdmhoAeVj\n",
       "AggzXKu6HvB6AM0B9/JXkPoK7/AY94IKPhnIGlHzmdKSPFpUkRwGeENJXWcxSwWwt03WmEf3xJ/w\n",
       "56UWUjdOIaek5dsj/0Ag9u3JfXVVB1io/eR7fchcbW2NuPYpsIxeOzRidPyRC8x01YwnbWtoKvDt\n",
       "bHxK9177qn7+sxAAhE+8NXSeW4eNIqM613b/CeItX4u4Y7n9SKllncFVv22mUtdEserhZFZzu5sE\n",
       "KLP8Yq5Q1gvGBZ+XvdBn9zKgC1dShK+18Y+pF6T0OR4YJvsGL55A91D+R+jhH3XGWwkZOZlH+rby\n",
       "y8+UksGnJK+Jrq4iYFwD5dLTLz3ULz9RkULj/mvKeCqXXoNFaADZyGmSjQJf4MGMhEAx6eRYUj9G\n",
       "3Hz7ZIIlZve08JaXqraJhu0FlTQR+22hrFOjXoRgloz+CmxrDmZyI7dJBtZosYCF7zgXPVz2Y5YA\n",
       "AMQ9y9yHjXvJWHHeMazGeuptTX60/zv12gGW9GLSPdvyO+f5XAhQ6qMAY/Aj8ZtMndOEQW5d5p4o\n",
       "+D6Cd/XWAV4yywi/Mo5R3ZaQ3dCGc68uD7ivmu2ynJ82TP8bR1bc4sHtn86p2YJ17nufw3mG0byf\n",
       "yLNprId9fIkE06TEmh5AkfD2p5HrptGoOW8ge4kzTUm6UuYD4dk2lBn2ozg42kxJZZ51BacN/we+\n",
       "XWWhLe6UVdW2D0+XAyh3nWJwxe4pFFfi4mNUQgLXSpfJiUSa02f8uyvTkx395jGtFVSmbkD35kvB\n",
       "JaTdn85h90978pNCivVEmhvvNvQozPMrDJ+YnVzgacqG8753+jRuCHK8zA7eCIwP3TlLWjS2VMSK\n",
       "boO25CzRHh90tgo3AC6P73h/BV9rKiYZy/+TsynI21SOA4NAABQwEtToJu4ceRHZTLVdjJ07H7dS\n",
       "ZCrYV9ePeVypSBK8XhuuPEGSVaJfhO36XYmmm67QThRVZOGtJW81W4zgyS8hIyxSCOlXMY9/Lhaq\n",
       "HMU2du1lVEb8FjQcIFzYQHC553FBtdVX8AfTy+xyIgkm4fxv1NyEuZ+t4FygV7+DwKQdKrsYV9E9\n",
       "QZruBSZZtG6xPUKYAXTbQjNI/CdFXxXXuAmg5D76184gyT1xSxlNUKmAyLC5gX1vEFPc1dOHdoOq\n",
       "AA0cpKhI6YLsh29VBXbyMgLDOkgLco4y/XOmaVGx1in+ooX4yj/p6qaRDtEYkbc1XQ7KagtSElYf\n",
       "t0b8Ed5lS3sfM4K9KamsNmw1KWIYRs2qdHoyMbd41fl2xvNKcIpfN6r9WOJz6z784d6diaJkjSXj\n",
       "H6Ojqcfd9/OFGT0/zwkz4bEhcTH6azq404zjbUM406/B3XDWLv93+nilUwNBJKLYe0KHQckd6Wir\n",
       "pBCWu0GC10lcf6PY/Ua/ZRniCoHjUpvOggumAjx+8c3sXz57v3GZI3vdY37Z5AAgpJSYAaaGkj8h\n",
       "xIkJ/qhtbSDcSzQuQ018kT1NyNgeAtvpJQiQdpdcSmpNsCmWKWABk7oH0ibP5TSKdOIwmMWMF/Gt\n",
       "rt4ldRqn/zj48hQwLitXe2PUFl0sWN8zBDqMy2trXwAi3TcQc9G3DF0GYfPCOc9RlR3/0fiQnmk0\n",
       "LBO29nfWchBL81w1QTI2IC7w/v5wPveis9tz+ZiJbUKAHF886hFgEkGEOxO0ClxoRh289H/hBFNQ\n",
       "I5JR+0c8SH9K0cfDPq4HA5AOeKVmYaccHT5fTYqfmF5ef/3009NHpVTd807TvC0Er3/Q5OsNvvTy\n",
       "8PNiPlIE3UOhzP8Z8OTx2ddLLpMW+fAqIVeSp8iP5o4qF02LGOv5vX8+w5xtgKYthbkMqdGqIuXy\n",
       "RLY7j4ZI/Pc/EGlP3x3X853fqDhMB2SQxqkDAAJs328yJ/Cs6puu3aD/ACLMIWri3Qt1Fx/Jdpkm\n",
       "F7pc8HlpyK8MOKCUwWX1oAoKx304Y7Vyaf4ka9V9Z6Sfhzdbh/cZkysQxBOarnsolcUTBxcG3+SJ\n",
       "J6kGbV/7+m9cCxlCkg/YKAf3LTYdpR6vB0x+GP51i9lLECttQW4MYaWbtijuJYS88iuHkoEtW8gh\n",
       "3Nd5YeIyHIzr4HLuzmk4ueh+kRXGoHGtbOB0xspsWE8JdwDldAy7ziqejULJcpdArrOaaipFE78/\n",
       "/oeCgXJ2I0y19lIXdtfpVdULAT3ANGSJTE8PJFb5d39XyX24Z+xDN59+9vMJfLL/dG9nKbr6HN80\n",
       "CjVwmxdxIWudBWXKuLgG7Om5NM+gvqEguHs6NUsKjch8JMW7kak8ilUJ9e6j48Xla8QQvJTXIszz\n",
       "u8S0NAZHlSoQtOEzjE9m0ij9YJr7209Wn4M9M4LmWRTryEMnfC7Vwzn5tPuEl4wCgCdo5pCtUywz\n",
       "ANq5A/M7ES2U7m9U96TPKDjRSlbC8ixuaBES4oWM5hPHqx613db3vUM+MO0PNaeZG6Keu7fnb+o1\n",
       "Mv2GtpvtD19XVG2n1m974O9PM78PeEHumHCk9juhWwQlET/WmmE1/FI6W9K3WElI6Nu1ViQX/gVw\n",
       "zhHsGMWk5Syje7kus4lvsAsHa5FVhTdDyR/jqP4hXiAaop2rNzbV63k5tuwF6qVnyku9TDvz53ei\n",
       "gz48GtiOmKXaP4YePHmVYHDhKWsFJGwSio3K/N9UiH2+FCf1h3FH8ssEtybEocnZJn/xNNZDuz1r\n",
       "9uJUSTgKQxu2P8Xi82/1VMb5BHZgIRaE8ABItLDEqe/4n6m9j/GOf9DXfAFCyIXgjdH5ajMDe/6C\n",
       "6MLM/vONM/1Y05uDozBbK8Pbt5rNyejJFoVIaOf/Ek40r/6RMfHR/FF2bSUMXAAv4VNZO0LvnUF5\n",
       "Ex5cHd+xEnzKcs61dkrS8C+uZFf/qk5GFG1SJwDd7WZDf8YGMZtNmHd/VJN/x/PJ07EQieLfjvpo\n",
       "t3n0WWKwBiI5Rs/+GNfZ3M58W1IKtnrD0kdq+Tcf2OlrtYTMUoxIO7m9PNgFpFyKHqfrHwxPX/3/\n",
       "rFGCJZ51mKn+pKq2PXRYiuzWiN760+YLWY0qo/eE/Abjr0vLG7oT/mVLdTsc6BsAI1O4gnvW8lxY\n",
       "uN2dVAcmWADRCrhd+s1meScqTYCgLgFupOV33dwE0pmqn+GftNozToPKys1/OGtcW/k+zkFOi6+w\n",
       "goC6kZu0prbvg8Njar41K9i/agtFzI7cEsXitDJN6sa2ZJMG9NjSs+0y7bE4sQxcdKoBAwA9ZgUU\n",
       "I32Tw5/zXe7oAOaALHidOY1CMzCzo2QgCMJFa4QOs1MlemJrOqsmvQ28IntzJc7GISogv4wK+a/A\n",
       "0wbhcyi/3C399ujZJNa+cPuchY3mRakcfjRE5GUGZjA4nvH8Ck3mMaY5RWT0cLa4Bj0sFBjbssfX\n",
       "vqOz3ExybMHM1+lGHhRVO5x3sAM8cPyipUKrRIZx/68i+JkLJQVwAAPqB3Ud2X0SzMoRomx18F26\n",
       "hBF+qnpQJpGu+kewHerQiT8HXuTkzn6dquNVIh1+9CsrcaC6UCRQHyXwLAbKnmxvpt17inXxc8OB\n",
       "FVolVmjzvFYzMMZ598+ORsezlQ6v/PcVChv5Mw+3b8T5YkFaU1997tJ+kkitwag8wlPMkfKzmxTR\n",
       "1om3dAaBIUSexJfISM+95KqYqyDWKsfHBdhFkPmO+rz0j1snyOQdXCbdkcIlnWyYAnHQ+XCYi4VY\n",
       "XX3o+5Pi1Y0/iwt5Usmjq+HqejV5mtqiPd2uo232IbD7Ro2H0+gaBCT1+FJVJvku3Dg0yXF+sc2i\n",
       "9Tm1cMT5FABVBx7BW8F5uXC1s6289yDdo3War3H1Y29LkGzrAF/RpmmxBXU6xLoN0lyREWp5s+fM\n",
       "OpWTQ7WAeUYl8DavBveOWSTKPrW9KYYRYkByi0x/hfqRkCVXl0YXPqufFJnD+vqQjPEMDcPivcx9\n",
       "Aq8ft1wU+6nbxzPcpsWxfZiGZF7oo1xFFFJvwE/C44sF6tkopjqVsQv7efjeyNdpUKwVoAjKN2uf\n",
       "tDxBZoZ0Ve0lbbKzOIK4EP+8xUr3tVvtDFcvVgsf9zNXZPW2AduQoQ9y9uzX58YqQLkH1XYDAICT\n",
       "ca72ttp76TOU6td9xg4sSsjb9MZmpG2QNwjPhvI/NJrw0jsLsBkIyrXkp94zVHQyKxtapVnONUTt\n",
       "7du7G6+rS4jCFe9b2dBavY3ZMylpHu66m0Ra7gFtq8MW0FogdWuauyMlJAad5Xw2WfF3SNmAx5fY\n",
       "NGpZGvNoQTxlFvzYOJEoym3nHu73rvqKE8TTwqwxVqG59zxtCucFm6FMypbQXOknB0z3jhWYop0N\n",
       "80OAntokczNDvDYQ99Qmk9A7pBqsDq9gQjPdNnCUtj4MxeXwt4OVUlncVSznoo6lBmLP5l5fm5rB\n",
       "gMOjkVWEJMdlkwJuPQSXdqK4BuPeS34GQG+QKgrsM9L6bOVILoMklBgnaB5L+Yit1u4al2Q69Op6\n",
       "PbQTlE5GaXHsP5xLxGMf8NJgetwr8ETQYcYfukrHPU7NedesAfp8EU2FKj/Xj9vAfTDO7NK/SdWp\n",
       "BBC3zGMdaUamDlY9Bm1gpHb7fHfo8L8L7iSbH8daUWvneLUTCxAnLnP3zB/NTQrUzly7AG2yrw1h\n",
       "wJfh5mO/VrBTcrwZ0fj2PIbUpRbPRJq3DirYOIpaWdA5ezc4lScIYILn7guDSsiqd6Q6DE2HIdJA\n",
       "B0Z28mAAC3kAAAJJQZoibEP//qmWAEgGDmvKtABtQ9FdL3u8owHgc7hIwpk8JDDnqnlPouJ63qRX\n",
       "oaA89MhBZOVKqBpaoAeXFT4cdA4vj9ksIFS6u3SdizRhYLjrg2EjaLrf3gKPGNbLluiKZst75hHa\n",
       "25pjdXtGxrO23HTbJVJhkEG/P/SXyAKfAGfpPTVj45z1hWiZd5kgokiVzk0POcvaL1KM0WY6PmWF\n",
       "wkRA68cELMZF+Ce1f+jmoOPjd5Nho2tpZGH9Thfl+Eyv9IxtAoxmyWcJi+KegJB3Fc28kGWpCdD2\n",
       "UrOnqoYORCaPOCuV0CcQfSOs4Dp8X9Yl3w+1qWpG45WN0fntg1nZVzcrpGyVxQ83AslvK79iFCnn\n",
       "Q3ycd/CHlIjiAcyqSUMCy7dDg13c12u4hyPYq+3Nh9xnSbUPaZNCFpojyWkL9jJjRQiXBi7kCxZL\n",
       "waRWK5ERSQuUUjyKOxdBFI083NflgTRps2ghEWBZQ2LvPxQAcHWW6OqrletVmMs0ywiYbDfzN0sY\n",
       "KGg+BeLsmf8f0TlvT+pN/wnpziTbexIcTdyQwWT8OYnOuC+8yBzq+Bwp/SvOFSzigUgq4fdk68U9\n",
       "30+GDzEb/ITlAzo6OIYA/OetQaZTFYGCGJv8IGBphgBxP9uTEjDwdzX8HSWuVIKykmR1Cu4a5yV7\n",
       "OS+2W8CVLf/ls4m8IAdNZQ5Y9E/bj8YnULxwYYc0m1zexBsC1rGflxINWynqDyXrKz2ktPyJUwQP\n",
       "barpbsG59YJrJzVtmIWLF6d4XvlEVk3wG6PmAAABRwGeQXkP/wAZv/nS8QCxDZxUO3nmmVSgY7+x\n",
       "GIosXha7JEH5BGK6Z4vDf58zitll/cRPa8h1n5BibI7pSt6spYb9Os5R3J3UACcAweJykIpm3k5o\n",
       "AeB+QlE0pLETBG2fbL+YVHUyI+D1hdlSKej2tvBGrbffV1//LmTiRnGB1kHGmy+1BaxsrkejYoyF\n",
       "1y2vMUAmxM0Ol9PTISVEGjbFxZPfCQYfI8oiTdQoQLNl9xYLfgW7a0swR/xLWHRGU2UH98yAIdSE\n",
       "QV9AxOi1gvP7xkZdkJS4uZemfvp3gPTaaey+8g3RXnxVANtIBgqzCE4WCmfWYW7LLcoZs8erFA65\n",
       "ijUxzSrpjSFEwnDIonS0AD+0Cb1rzMKnoUwpzsCBf5RDGoCxPvIYfvLS65AK++U1WMvRQsSgwWHi\n",
       "GkqDRt/yGa5pUTH9PopZQQAAA1Vtb292AAAAbG12aGQAAAAAAAAAAAAAAAAAAAPoAAACWAABAAAB\n",
       "AAAAAAAAAAAAAAAAAQAAAAAAAAAAAAAAAAAAAAEAAAAAAAAAAAAAAAAAAEAAAAAAAAAAAAAAAAAA\n",
       "AAAAAAAAAAAAAAAAAAAAAAACAAACgHRyYWsAAABcdGtoZAAAAAMAAAAAAAAAAAAAAAEAAAAAAAAC\n",
       "WAAAAAAAAAAAAAAAAAAAAAAAAQAAAAAAAAAAAAAAAAAAAAEAAAAAAAAAAAAAAAAAAEAAAAACgAAA\n",
       "AeAAAAAAACRlZHRzAAAAHGVsc3QAAAAAAAAAAQAAAlgAABAAAAEAAAAAAfhtZGlhAAAAIG1kaGQA\n",
       "AAAAAAAAAAAAAAAAACgAAAAYAFXEAAAAAAAtaGRscgAAAAAAAAAAdmlkZQAAAAAAAAAAAAAAAFZp\n",
       "ZGVvSGFuZGxlcgAAAAGjbWluZgAAABR2bWhkAAAAAQAAAAAAAAAAAAAAJGRpbmYAAAAcZHJlZgAA\n",
       "AAAAAAABAAAADHVybCAAAAABAAABY3N0YmwAAAC3c3RzZAAAAAAAAAABAAAAp2F2YzEAAAAAAAAA\n",
       "AQAAAAAAAAAAAAAAAAAAAAACgAHgAEgAAABIAAAAAAAAAAEAAAAAAAAAAAAAAAAAAAAAAAAAAAAA\n",
       "AAAAAAAAAAAAAAAY//8AAAA1YXZjQwFkABb/4QAYZ2QAFqzZQKA9oQAAAwABAAADAAoPFi2WAQAG\n",
       "aOvjyyLA/fj4AAAAABx1dWlka2hA8l8kT8W6OaUbzwMj8wAAAAAAAAAYc3R0cwAAAAAAAAABAAAA\n",
       "AwAACAAAAAAUc3RzcwAAAAAAAAABAAAAAQAAAChjdHRzAAAAAAAAAAMAAAABAAAQAAAAAAEAABgA\n",
       "AAAAAQAACAAAAAAcc3RzYwAAAAAAAAABAAAAAQAAAAMAAAABAAAAIHN0c3oAAAAAAAAAAAAAAAMA\n",
       "ABaOAAACTQAAAUsAAAAUc3RjbwAAAAAAAAABAAAAMAAAAGF1ZHRhAAAAWW1ldGEAAAAAAAAAIWhk\n",
       "bHIAAAAAAAAAAG1kaXJhcHBsAAAAAAAAAAAAAAAALGlsc3QAAAAkqXRvbwAAABxkYXRhAAAAAQAA\n",
       "AABMYXZmNTkuMi4xMDE=\n",
       "\">\n",
       "  Your browser does not support the video tag.\n",
       "</video>"
      ],
      "text/plain": [
       "<IPython.core.display.HTML object>"
      ]
     },
     "execution_count": 23,
     "metadata": {},
     "output_type": "execute_result"
    }
   ],
   "source": [
    "L = 50\n",
    "p = 0.5\n",
    "\n",
    "matrix = generate_forest(L, p)\n",
    "states, hit_opposite_edge = fire_simulation(matrix)"
   ]
  },
  {
   "cell_type": "code",
   "execution_count": 24,
   "metadata": {},
   "outputs": [
    {
     "data": {
      "image/png": "[encoded data removed]",
      "text/plain": [
       "<Figure size 1152x1152 with 4 Axes>"
      ]
     },
     "metadata": {
      "needs_background": "light"
     },
     "output_type": "display_data"
    }
   ],
   "source": [
    "clusters = hk_forest_clustering(states[-1],True)"
   ]
  },
  {
   "cell_type": "code",
   "execution_count": 25,
   "metadata": {},
   "outputs": [
    {
     "data": {
      "text/plain": [
       "152"
      ]
     },
     "execution_count": 25,
     "metadata": {},
     "output_type": "execute_result"
    },
    {
     "data": {
      "image/png": "[encoded data removed]",
      "text/plain": [
       "<Figure size 576x576 with 1 Axes>"
      ]
     },
     "metadata": {
      "needs_background": "light"
     },
     "output_type": "display_data"
    }
   ],
   "source": [
    "hk_biggest_cluster_size(clusters,True)"
   ]
  },
  {
   "cell_type": "code",
   "execution_count": null,
   "metadata": {},
   "outputs": [],
   "source": []
  }
 ],
 "metadata": {
  "kernelspec": {
   "display_name": "Python 3",
   "language": "python",
   "name": "python3"
  },
  "language_info": {
   "codemirror_mode": {
    "name": "ipython",
    "version": 3
   },
   "file_extension": ".py",
   "mimetype": "text/x-python",
   "name": "python",
   "nbconvert_exporter": "python",
   "pygments_lexer": "ipython3",
   "version": "3.7.4"
  }
 },
 "nbformat": 4,
 "nbformat_minor": 4
}
